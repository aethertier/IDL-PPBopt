{
 "cells": [
  {
   "cell_type": "code",
   "execution_count": null,
   "metadata": {},
   "outputs": [],
   "source": [
    "import pandas as pd\n",
    "from IDLPPBopt import PPBPredictor, PPBPredictorViz\n",
    "from IDLPPBopt.interface.Visualizer import AtomAttentionVisualizer"
   ]
  },
  {
   "cell_type": "markdown",
   "metadata": {},
   "source": [
    "# Simple prediction"
   ]
  },
  {
   "cell_type": "code",
   "execution_count": null,
   "metadata": {},
   "outputs": [],
   "source": [
    "# ::: READ DATA\n",
    "#\n",
    "INPUT_FILE = 'input_compounds.csv'\n",
    "SMILES_COLUMN = 'cano_smiles'\n",
    "\n",
    "df = pd.read_csv(INPUT_FILE)\n",
    "smiles_series = df['cano_smiles']\n",
    "\n",
    "# ::: RUN PREDICTOR\n",
    "#\n",
    "ppbpred = PPBPredictor()\n",
    "ppbpred.load_smiles(smiles_series)\n",
    "ppbpred.prepare_model()\n",
    "results = ppbpred.evaluate()\n",
    "\n",
    "# ::: SAFE results\n",
    "#\n",
    "results = pd.Series(results, index=smiles_series.index)\n",
    "df['IDL-PPBopt'] = results\n",
    "df\n",
    "# df.to_csv('results.csv')"
   ]
  },
  {
   "cell_type": "markdown",
   "metadata": {},
   "source": [
    "# Visualize prediction"
   ]
  },
  {
   "cell_type": "code",
   "execution_count": null,
   "metadata": {},
   "outputs": [],
   "source": [
    "from IPython.display import\tSVG, display\n",
    "\n",
    "# ::: READ DATA\n",
    "#\n",
    "INPUT_FILE = 'input_compounds.csv'\n",
    "SMILES_COLUMN = 'cano_smiles'\n",
    "\n",
    "df = pd.read_csv(INPUT_FILE)\n",
    "smiles_series = df['cano_smiles']\n",
    "\n",
    "# ::: RUN PREDICTOR\n",
    "#\n",
    "ppbviz = PPBPredictorViz()\n",
    "ppbviz.load_smiles(smiles_series)\n",
    "ppbviz.prepare_model()\n",
    "mol_predictions, mol_attnweights = ppbviz.evaluate()\n",
    "\n",
    "# ::: VISUALIZE PREDICTION\n",
    "#\n",
    "# Initializing visualizer\n",
    "viz = AtomAttentionVisualizer(vmin=0, vmax=.05)\n",
    "\n",
    "for smi, weights, pred in zip(ppbviz.smiles_series, mol_attnweights, mol_predictions):\n",
    "    print(smi, pred, sep='\\t')\n",
    "    # Generate and display SVG\n",
    "    svg = viz.draw_svg(smi, weights)\n",
    "    display(SVG(svg))\n"
   ]
  },
  {
   "cell_type": "markdown",
   "metadata": {},
   "source": [
    "# Color privileged substructures by heuristic"
   ]
  },
  {
   "cell_type": "code",
   "execution_count": null,
   "metadata": {},
   "outputs": [],
   "source": [
    "from IPython.display import\tSVG, display\n",
    "from matplotlib import cm\n",
    "from rdkit import Chem\n",
    "from IDLPPBopt import AtomAttentionVisualizer\n",
    "from IDLPPBopt.utils import find_privileged_substructures, extract_substructure_by_indices\n",
    "from IDLPPBopt.config import GPSUBS_PATH\n",
    "\n",
    "\n",
    "GPSubs = pd.read_csv(GPSUBS_PATH)\n",
    "gb = GPSubs.groupby('GPSub')\n",
    "viz = AtomAttentionVisualizer(vmin=0, vmax=.05)\n",
    "\n",
    "for smi, weights, pred in zip(ppbviz.smiles_series, mol_attnweights, mol_predictions):\n",
    "    print(smi, pred, weights.max(), sep='\\t')\n",
    "\n",
    "    substructures = find_privileged_substructures(smi, weights)\n",
    "\n",
    "    mol = Chem.MolFromSmiles(smi)\n",
    "    substructure_colors = []\n",
    "    for submol in (extract_substructure_by_indices(mol, idcs) for idcs in substructures):\n",
    "        submol_score = 0.\n",
    "        # Iterate over general privileged substructures\n",
    "        for gpsub in gb.groups.keys():\n",
    "            smarts = Chem.MolFromSmarts(gpsub)\n",
    "            if not submol.HasSubstructMatch(smarts):\n",
    "                continue\n",
    "            # If GPSub matches, check (R)Esubs\n",
    "            resubs = gb.get_group(gpsub)[['(R)Esub', 'PPB_Score']]\n",
    "            for resub, score in resubs.itertuples(index=False):\n",
    "                smarts = Chem.MolFromSmarts(gpsub)\n",
    "                if submol.HasSubstructMatch(smarts):\n",
    "                    submol_score += score\n",
    "        if submol_score < 0:\n",
    "            substructure_colors.append((0., 1., 0., 1.))\n",
    "        elif submol_score > 0:\n",
    "            substructure_colors.append((1., 0., 0., 1.))\n",
    "        else:\n",
    "            substructure_colors.append((1., 1., 0., 1.))\n",
    "\n",
    "    # Generate and display SVG\n",
    "    svg = viz.draw_svg(\n",
    "        smi, weights, substructures, substructure_colors=substructure_colors)\n",
    "    display(SVG(svg))"
   ]
  },
  {
   "cell_type": "code",
   "execution_count": null,
   "metadata": {},
   "outputs": [],
   "source": []
  }
 ],
 "metadata": {
  "kernelspec": {
   "display_name": "Python 3 (ipykernel)",
   "language": "python",
   "name": "python3"
  },
  "language_info": {
   "codemirror_mode": {
    "name": "ipython",
    "version": 3
   },
   "file_extension": ".py",
   "mimetype": "text/x-python",
   "name": "python",
   "nbconvert_exporter": "python",
   "pygments_lexer": "ipython3",
   "version": "3.7.12"
  }
 },
 "nbformat": 4,
 "nbformat_minor": 4
}
