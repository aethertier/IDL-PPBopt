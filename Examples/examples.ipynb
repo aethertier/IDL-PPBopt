{
 "cells": [
  {
   "cell_type": "code",
   "execution_count": null,
   "metadata": {},
   "outputs": [],
   "source": [
    "import pandas as pd\n",
    "from IDLPPBopt import PPBPredictor, PPBPredictorViz\n",
    "from IDLPPBopt.interface.Visualizer import AtomAttentionVisualizer"
   ]
  },
  {
   "cell_type": "markdown",
   "metadata": {},
   "source": [
    "# Simple prediction"
   ]
  },
  {
   "cell_type": "code",
   "execution_count": null,
   "metadata": {},
   "outputs": [],
   "source": [
    "# ::: READ DATA\n",
    "#\n",
    "INPUT_FILE = 'input_compounds.csv'\n",
    "SMILES_COLUMN = 'cano_smiles'\n",
    "\n",
    "df = pd.read_csv(INPUT_FILE)\n",
    "smiles_series = df['cano_smiles']\n",
    "\n",
    "# ::: RUN PREDICTOR\n",
    "#\n",
    "ppbpred = PPBPredictor()\n",
    "ppbpred.load_smiles(smiles_series)\n",
    "ppbpred.prepare_model()\n",
    "results = ppbpred.evaluate()\n",
    "\n",
    "# ::: SAFE results\n",
    "#\n",
    "results = pd.Series(results, index=smiles_series.index)\n",
    "df['IDL-PPBopt'] = results\n",
    "df\n",
    "# df.to_csv('results.csv')"
   ]
  },
  {
   "cell_type": "markdown",
   "metadata": {},
   "source": [
    "# Visualize prediction"
   ]
  },
  {
   "cell_type": "code",
   "execution_count": null,
   "metadata": {},
   "outputs": [],
   "source": [
    "from IPython.display import\tSVG, display\n",
    "\n",
    "# ::: READ DATA\n",
    "#\n",
    "INPUT_FILE = 'input_compounds.csv'\n",
    "SMILES_COLUMN = 'cano_smiles'\n",
    "\n",
    "df = pd.read_csv(INPUT_FILE)\n",
    "smiles_series = df['cano_smiles']\n",
    "\n",
    "# ::: RUN PREDICTOR\n",
    "#\n",
    "ppbviz = PPBPredictorViz()\n",
    "ppbviz.load_smiles(smiles_series)\n",
    "ppbviz.prepare_model()\n",
    "mol_predictions, mol_attnweights = ppbviz.evaluate()\n",
    "\n",
    "# ::: VISUALIZE PREDICTION\n",
    "#\n",
    "for smi, weights, pred in zip(ppbviz.smiles_series, mol_attnweights, mol_predictions):\n",
    "    # Initializing visualizer\n",
    "    viz = AtomAttentionVisualizer(smi, weights, vmin=0, vmax=weights.max()*1.25)\n",
    "    # Higlight privileged substructures\n",
    "    viz.highlight_privileged_substructures()\n",
    "\n",
    "    print(smi, pred, sep='\\t')\n",
    "    print(f'Detected {len(viz.substructures):d} privileged substructures...')\n",
    "\n",
    "    # Generate and display SVG\n",
    "    svg = viz.draw_svg()\n",
    "    display(SVG(svg))\n"
   ]
  },
  {
   "cell_type": "code",
   "execution_count": null,
   "metadata": {},
   "outputs": [],
   "source": []
  }
 ],
 "metadata": {
  "kernelspec": {
   "display_name": "IDL-PPBopt",
   "language": "python",
   "name": "python3"
  },
  "language_info": {
   "codemirror_mode": {
    "name": "ipython",
    "version": 3
   },
   "file_extension": ".py",
   "mimetype": "text/x-python",
   "name": "python",
   "nbconvert_exporter": "python",
   "pygments_lexer": "ipython3",
   "version": "3.7.12"
  }
 },
 "nbformat": 4,
 "nbformat_minor": 2
}
